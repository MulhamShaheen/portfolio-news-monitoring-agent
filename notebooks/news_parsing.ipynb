{
 "cells": [
  {
   "metadata": {},
   "cell_type": "markdown",
   "source": [
    "1. import every client and parse examples\n",
    "2. collect examples in dataframes\n",
    "3. combine dataframes\n",
    "4. save to csv"
   ],
   "id": "55124dec52d62dbe"
  },
  {
   "metadata": {
    "ExecuteTime": {
     "end_time": "2025-07-03T09:34:38.867263Z",
     "start_time": "2025-07-03T09:34:38.857523Z"
    }
   },
   "cell_type": "code",
   "source": [
    "import pandas as pd\n",
    "\n",
    "from services.news_fetcher import fetcher"
   ],
   "id": "6580f80cf6b3d48d",
   "outputs": [],
   "execution_count": 22
  },
  {
   "metadata": {},
   "cell_type": "markdown",
   "source": "# Yahoo Finance News Parsing",
   "id": "76921296ed0a6d35"
  },
  {
   "metadata": {},
   "cell_type": "markdown",
   "source": "### Example: Fetching News for a Single Ticker",
   "id": "312cdbf52624d44c"
  },
  {
   "metadata": {
    "ExecuteTime": {
     "end_time": "2025-07-03T09:39:59.939534Z",
     "start_time": "2025-07-03T09:39:59.921942Z"
    }
   },
   "cell_type": "code",
   "source": [
    "res = fetcher.get_ticker_news(\"GOOGL\", 5, with_content=True)\n",
    "example_article = res[0]\n",
    "\n",
    "print(\"Article title:\", example_article[\"title\"])\n",
    "print(\"Article content:\", example_article['content'][:100], \"...\")  # Print first 200 characters"
   ],
   "id": "d2372b31a9172503",
   "outputs": [
    {
     "name": "stdout",
     "output_type": "stream",
     "text": [
      "Article title: Explainer-Will the EU delay enforcing its AI Act?\n",
      "Article content: By Supantha MukherjeeSTOCKHOLM (Reuters) -With less than a month to go before parts of the European  ...\n"
     ]
    }
   ],
   "execution_count": 30
  },
  {
   "metadata": {},
   "cell_type": "markdown",
   "source": [
    "# Fetching News for top tickers in S&P 500\n",
    "We randomly sample 200 tickers to avoid rate limiting issues."
   ],
   "id": "58869ebdbf62aed1"
  },
  {
   "metadata": {
    "ExecuteTime": {
     "end_time": "2025-07-03T09:40:19.942318Z",
     "start_time": "2025-07-03T09:40:19.377842Z"
    }
   },
   "cell_type": "code",
   "source": [
    "url = \"https://en.wikipedia.org/wiki/List_of_S%26P_500_companies\"\n",
    "tables = pd.read_html(url)\n",
    "\n",
    "sp500_table = tables[0]\n",
    "sp500_tickers = sp500_table[['Symbol', 'Security']].sample(frac=1, random_state=42).reset_index(drop=True)\n",
    "print(sp500_tickers.head(10))\n",
    "tickers = sp500_tickers['Symbol'].tolist()[:200]\n"
   ],
   "id": "d65d99c5eb10640",
   "outputs": [
    {
     "name": "stdout",
     "output_type": "stream",
     "text": [
      "  Symbol              Security\n",
      "0      K             Kellanova\n",
      "1    BRO         Brown & Brown\n",
      "2    LIN             Linde plc\n",
      "3    DTE            DTE Energy\n",
      "4   CINF  Cincinnati Financial\n",
      "5    LHX              L3Harris\n",
      "6    RTX       RTX Corporation\n",
      "7    GLW          Corning Inc.\n",
      "8   BKNG      Booking Holdings\n",
      "9   IDXX    Idexx Laboratories\n"
     ]
    }
   ],
   "execution_count": 31
  },
  {
   "metadata": {},
   "cell_type": "markdown",
   "source": [
    "### Create a DataFrame to store the news articles\n",
    "\n",
    "Note: Not all requests return articles with content, in some cases errors are returned."
   ],
   "id": "c4dcec82ab26478f"
  },
  {
   "metadata": {
    "ExecuteTime": {
     "end_time": "2025-07-03T10:05:21.655213Z",
     "start_time": "2025-07-03T10:05:21.650209Z"
    }
   },
   "cell_type": "code",
   "source": [
    "data = {\n",
    "    \"ticker\": [],\n",
    "    \"title\": [],\n",
    "    \"link\": [],\n",
    "    \"content\": [],\n",
    "    \"summary\": []\n",
    "}"
   ],
   "id": "17187cefdf97f110",
   "outputs": [],
   "execution_count": 38
  },
  {
   "metadata": {},
   "cell_type": "code",
   "source": [
    "from tqdm import tqdm\n",
    "\n",
    "\n",
    "from concurrent.futures import ThreadPoolExecutor, as_completed\n",
    "\n",
    "def fetch_news_for_ticker(ticker):\n",
    "    try:\n",
    "        res = fetcher.get_ticker_news(ticker, 10, with_content=True)\n",
    "        if res:\n",
    "            return {\n",
    "                \"ticker\": [ticker] * len(res),\n",
    "                \"title\": [article[\"title\"] for article in res],\n",
    "                \"link\": [article[\"link\"] for article in res],\n",
    "                \"summary\": [article[\"summary\"] for article in res],\n",
    "                \"content\": [article[\"content\"] for article in res]\n",
    "            }\n",
    "        else:\n",
    "            print(f\"Ticker: {ticker}, No articles found.\")\n",
    "            return None\n",
    "    except Exception as e:\n",
    "        print(f\"Error fetching news for {ticker}: {e}\")\n",
    "        return None\n",
    "\n",
    "\n",
    "# Use ThreadPoolExecutor to fetch news concurrently (faster)\n",
    "with ThreadPoolExecutor(max_workers=8) as executor:\n",
    "    futures = {executor.submit(fetch_news_for_ticker, ticker): ticker for ticker in tickers}\n",
    "    for future in tqdm(as_completed(futures), total=len(tickers), desc=\"Tickers\"):\n",
    "        result = future.result()\n",
    "        if result:\n",
    "            data[\"ticker\"].extend(result[\"ticker\"])\n",
    "            data[\"title\"].extend(result[\"title\"])\n",
    "            data[\"link\"].extend(result[\"link\"])\n",
    "            data[\"summary\"].extend(result[\"summary\"])\n",
    "            data[\"content\"].extend(result[\"content\"])\n"
   ],
   "id": "e358cc7145d3fa38",
   "outputs": [],
   "execution_count": null
  },
  {
   "metadata": {
    "ExecuteTime": {
     "end_time": "2025-07-03T09:32:47.718277Z",
     "start_time": "2025-07-03T09:32:47.448294Z"
    }
   },
   "cell_type": "code",
   "source": [
    "import pandas as pd\n",
    "\n",
    "yf_df = pd.DataFrame(data)\n",
    "yf_df = yf_df.drop_duplicates(subset=[\"title\", \"link\"])\n",
    "yf_df = yf_df[yf_df[\"content\"].notna()]\n",
    "\n",
    "# clean content and summary from none english characters\n",
    "def clean_text(text):\n",
    "    # Replace non-ASCII characters with a space\n",
    "    return ''.join(char if char.isascii() else ' ' for char in text).replace(\"\\n\", \" \").replace(\"\\r\", \" \").strip()\n",
    "\n",
    "yf_df[\"content\"] = yf_df[\"content\"].apply(clean_text)\n",
    "\n",
    "yf_df.reset_index(drop=True, inplace=True)\n",
    "yf_df.head()"
   ],
   "id": "e3cdcc83bf029b22",
   "outputs": [
    {
     "data": {
      "text/plain": [
       "  ticker                                              title  \\\n",
       "0    LIN  Citi upgrades Linde on project wins and produc...   \n",
       "1    LIN  Circle initiated, Disney upgraded: Wall Street...   \n",
       "2    LIN  Linde Signs Long-Term Agreement to Supply Indu...   \n",
       "3    LIN  Linde Publishes 2024 Sustainable Development R...   \n",
       "4    LIN  Linde plc's (NASDAQ:LIN) Recent Stock Performa...   \n",
       "\n",
       "                                                link  \\\n",
       "0  https://finance.yahoo.com/news/citi-upgrades-l...   \n",
       "1  https://finance.yahoo.com/news/circle-initiate...   \n",
       "2  https://finance.yahoo.com/news/linde-signs-lon...   \n",
       "3  https://finance.yahoo.com/news/linde-publishes...   \n",
       "4  https://finance.yahoo.com/news/linde-plcs-nasd...   \n",
       "\n",
       "                                             content  \\\n",
       "0  Investing.com -- Citigroup raised its rating o...   \n",
       "1  The most talked about and market moving resear...   \n",
       "2  WOKING, England, June 23, 2025--(BUSINESS WIRE...   \n",
       "3  WOKING, England, June 20, 2025--(BUSINESS WIRE...   \n",
       "4  Most readers would already know that Linde's (...   \n",
       "\n",
       "                                             summary  \n",
       "0  Investing.com -- Citigroup raised its rating o...  \n",
       "1  Circle initiated, Disney upgraded: Wall Street...  \n",
       "2  WOKING, England, June 23, 2025--Linde (Nasdaq:...  \n",
       "3  WOKING, England, June 20, 2025--Linde (Nasdaq:...  \n",
       "4  Most readers would already know that Linde's (...  "
      ],
      "text/html": [
       "<div>\n",
       "<style scoped>\n",
       "    .dataframe tbody tr th:only-of-type {\n",
       "        vertical-align: middle;\n",
       "    }\n",
       "\n",
       "    .dataframe tbody tr th {\n",
       "        vertical-align: top;\n",
       "    }\n",
       "\n",
       "    .dataframe thead th {\n",
       "        text-align: right;\n",
       "    }\n",
       "</style>\n",
       "<table border=\"1\" class=\"dataframe\">\n",
       "  <thead>\n",
       "    <tr style=\"text-align: right;\">\n",
       "      <th></th>\n",
       "      <th>ticker</th>\n",
       "      <th>title</th>\n",
       "      <th>link</th>\n",
       "      <th>content</th>\n",
       "      <th>summary</th>\n",
       "    </tr>\n",
       "  </thead>\n",
       "  <tbody>\n",
       "    <tr>\n",
       "      <th>0</th>\n",
       "      <td>LIN</td>\n",
       "      <td>Citi upgrades Linde on project wins and produc...</td>\n",
       "      <td>https://finance.yahoo.com/news/citi-upgrades-l...</td>\n",
       "      <td>Investing.com -- Citigroup raised its rating o...</td>\n",
       "      <td>Investing.com -- Citigroup raised its rating o...</td>\n",
       "    </tr>\n",
       "    <tr>\n",
       "      <th>1</th>\n",
       "      <td>LIN</td>\n",
       "      <td>Circle initiated, Disney upgraded: Wall Street...</td>\n",
       "      <td>https://finance.yahoo.com/news/circle-initiate...</td>\n",
       "      <td>The most talked about and market moving resear...</td>\n",
       "      <td>Circle initiated, Disney upgraded: Wall Street...</td>\n",
       "    </tr>\n",
       "    <tr>\n",
       "      <th>2</th>\n",
       "      <td>LIN</td>\n",
       "      <td>Linde Signs Long-Term Agreement to Supply Indu...</td>\n",
       "      <td>https://finance.yahoo.com/news/linde-signs-lon...</td>\n",
       "      <td>WOKING, England, June 23, 2025--(BUSINESS WIRE...</td>\n",
       "      <td>WOKING, England, June 23, 2025--Linde (Nasdaq:...</td>\n",
       "    </tr>\n",
       "    <tr>\n",
       "      <th>3</th>\n",
       "      <td>LIN</td>\n",
       "      <td>Linde Publishes 2024 Sustainable Development R...</td>\n",
       "      <td>https://finance.yahoo.com/news/linde-publishes...</td>\n",
       "      <td>WOKING, England, June 20, 2025--(BUSINESS WIRE...</td>\n",
       "      <td>WOKING, England, June 20, 2025--Linde (Nasdaq:...</td>\n",
       "    </tr>\n",
       "    <tr>\n",
       "      <th>4</th>\n",
       "      <td>LIN</td>\n",
       "      <td>Linde plc's (NASDAQ:LIN) Recent Stock Performa...</td>\n",
       "      <td>https://finance.yahoo.com/news/linde-plcs-nasd...</td>\n",
       "      <td>Most readers would already know that Linde's (...</td>\n",
       "      <td>Most readers would already know that Linde's (...</td>\n",
       "    </tr>\n",
       "  </tbody>\n",
       "</table>\n",
       "</div>"
      ]
     },
     "execution_count": 17,
     "metadata": {},
     "output_type": "execute_result"
    }
   ],
   "execution_count": 17
  },
  {
   "metadata": {
    "ExecuteTime": {
     "end_time": "2025-07-03T09:33:14.985962Z",
     "start_time": "2025-07-03T09:33:14.897490Z"
    }
   },
   "cell_type": "code",
   "source": "yf_df.to_csv(\"yahoo_finance_news_5.csv\", index=False)",
   "id": "b7250179389da4ad",
   "outputs": [],
   "execution_count": 18
  },
  {
   "metadata": {
    "ExecuteTime": {
     "end_time": "2025-07-03T09:33:15.275564Z",
     "start_time": "2025-07-03T09:33:15.202722Z"
    }
   },
   "cell_type": "code",
   "source": "yf_df = pd.read_csv(\"yahoo_finance_news_5.csv\")",
   "id": "829b7a23b43b6bb3",
   "outputs": [],
   "execution_count": 19
  },
  {
   "metadata": {
    "ExecuteTime": {
     "end_time": "2025-07-03T09:33:15.501349Z",
     "start_time": "2025-07-03T09:33:15.480339Z"
    }
   },
   "cell_type": "code",
   "source": "len(yf_df)",
   "id": "cb321f55fb2de2f1",
   "outputs": [
    {
     "data": {
      "text/plain": [
       "1395"
      ]
     },
     "execution_count": 20,
     "metadata": {},
     "output_type": "execute_result"
    }
   ],
   "execution_count": 20
  },
  {
   "metadata": {},
   "cell_type": "markdown",
   "source": "# Indian Financial News Parsing",
   "id": "252e23ed4a6bab60"
  },
  {
   "metadata": {
    "ExecuteTime": {
     "end_time": "2025-07-03T09:44:41.258451Z",
     "start_time": "2025-07-03T09:44:04.287522Z"
    }
   },
   "cell_type": "code",
   "source": [
    "df = pd.read_csv(\"hf://datasets/kdave/Indian_Financial_News/training_data_26000.csv\")\n",
    "len(df)"
   ],
   "id": "5546e76300d6cfe6",
   "outputs": [
    {
     "data": {
      "text/plain": [
       "26961"
      ]
     },
     "execution_count": 35,
     "metadata": {},
     "output_type": "execute_result"
    }
   ],
   "execution_count": 35
  },
  {
   "metadata": {
    "ExecuteTime": {
     "end_time": "2025-07-03T09:44:42.247023Z",
     "start_time": "2025-07-03T09:44:41.288996Z"
    }
   },
   "cell_type": "code",
   "source": [
    "# get the rows with the words \"stock\" or \"market\" in the content\n",
    "df = df[df[\"Content\"].str.contains(\"stock\", case=False, na=False)]\n",
    "len(df)"
   ],
   "id": "16c826e267e61b9d",
   "outputs": [
    {
     "data": {
      "text/plain": [
       "8825"
      ]
     },
     "execution_count": 36,
     "metadata": {},
     "output_type": "execute_result"
    }
   ],
   "execution_count": 36
  },
  {
   "metadata": {
    "ExecuteTime": {
     "end_time": "2025-07-03T09:44:42.285440Z",
     "start_time": "2025-07-03T09:44:42.277399Z"
    }
   },
   "cell_type": "code",
   "source": "df.head()",
   "id": "8731387a5662b71e",
   "outputs": [
    {
     "data": {
      "text/plain": [
       "                                                  URL  \\\n",
       "5   https://www.moneycontrol.com/news/business/mar...   \n",
       "8   https://www.moneycontrol.com/news/business/mar...   \n",
       "9   https://economictimes.indiatimes.com/news/econ...   \n",
       "13  https://www.moneycontrol.com/news/business/mar...   \n",
       "16  http://www.financialexpress.com/market/shares-...   \n",
       "\n",
       "                                              Content  \\\n",
       "5   Wall Street's main indexes fell on Wednesday a...   \n",
       "8   Foreign institutional investors (FIIs) have tu...   \n",
       "9   Three meetings, two hotels, one city. These we...   \n",
       "13  Rahul Jain\\n\\nThe Indian economy, despite all ...   \n",
       "16  Indian stock markets are likely to open lower ...   \n",
       "\n",
       "                                              Summary Sentiment  \n",
       "5   main indexes fall after jerome p. o'connell wa...  Negative  \n",
       "8   foreign institutional investors (FIIs) have tu...  Negative  \n",
       "9   competition commission of india investigated a...  Negative  \n",
       "13  the economic slowdown is taking the center-sta...  Negative  \n",
       "16  early indicator of NSE Nifty, SGX Nifty Future...  Negative  "
      ],
      "text/html": [
       "<div>\n",
       "<style scoped>\n",
       "    .dataframe tbody tr th:only-of-type {\n",
       "        vertical-align: middle;\n",
       "    }\n",
       "\n",
       "    .dataframe tbody tr th {\n",
       "        vertical-align: top;\n",
       "    }\n",
       "\n",
       "    .dataframe thead th {\n",
       "        text-align: right;\n",
       "    }\n",
       "</style>\n",
       "<table border=\"1\" class=\"dataframe\">\n",
       "  <thead>\n",
       "    <tr style=\"text-align: right;\">\n",
       "      <th></th>\n",
       "      <th>URL</th>\n",
       "      <th>Content</th>\n",
       "      <th>Summary</th>\n",
       "      <th>Sentiment</th>\n",
       "    </tr>\n",
       "  </thead>\n",
       "  <tbody>\n",
       "    <tr>\n",
       "      <th>5</th>\n",
       "      <td>https://www.moneycontrol.com/news/business/mar...</td>\n",
       "      <td>Wall Street's main indexes fell on Wednesday a...</td>\n",
       "      <td>main indexes fall after jerome p. o'connell wa...</td>\n",
       "      <td>Negative</td>\n",
       "    </tr>\n",
       "    <tr>\n",
       "      <th>8</th>\n",
       "      <td>https://www.moneycontrol.com/news/business/mar...</td>\n",
       "      <td>Foreign institutional investors (FIIs) have tu...</td>\n",
       "      <td>foreign institutional investors (FIIs) have tu...</td>\n",
       "      <td>Negative</td>\n",
       "    </tr>\n",
       "    <tr>\n",
       "      <th>9</th>\n",
       "      <td>https://economictimes.indiatimes.com/news/econ...</td>\n",
       "      <td>Three meetings, two hotels, one city. These we...</td>\n",
       "      <td>competition commission of india investigated a...</td>\n",
       "      <td>Negative</td>\n",
       "    </tr>\n",
       "    <tr>\n",
       "      <th>13</th>\n",
       "      <td>https://www.moneycontrol.com/news/business/mar...</td>\n",
       "      <td>Rahul Jain\\n\\nThe Indian economy, despite all ...</td>\n",
       "      <td>the economic slowdown is taking the center-sta...</td>\n",
       "      <td>Negative</td>\n",
       "    </tr>\n",
       "    <tr>\n",
       "      <th>16</th>\n",
       "      <td>http://www.financialexpress.com/market/shares-...</td>\n",
       "      <td>Indian stock markets are likely to open lower ...</td>\n",
       "      <td>early indicator of NSE Nifty, SGX Nifty Future...</td>\n",
       "      <td>Negative</td>\n",
       "    </tr>\n",
       "  </tbody>\n",
       "</table>\n",
       "</div>"
      ]
     },
     "execution_count": 37,
     "metadata": {},
     "output_type": "execute_result"
    }
   ],
   "execution_count": 37
  },
  {
   "metadata": {},
   "cell_type": "code",
   "source": [
    "df = df[[\"Content\", \"Summary\", \"URL\"]]\n",
    "df.columns = [\"content\", \"summary\", \"link\"] # rename columns to match the Yahoo Finance format\n",
    "df = df.drop_duplicates(subset=[\"link\"])\n",
    "\n",
    "df = df[df[\"content\"].notna()]"
   ],
   "id": "e5f28277975d5e88",
   "outputs": [],
   "execution_count": null
  },
  {
   "metadata": {},
   "cell_type": "markdown",
   "source": "## Combine Yahoo Finance and Indian Financial News Dataframes",
   "id": "3e8ab46ebafeb5"
  },
  {
   "metadata": {
    "ExecuteTime": {
     "end_time": "2025-07-03T09:43:52.778631Z",
     "start_time": "2025-07-03T09:43:52.612456Z"
    }
   },
   "cell_type": "code",
   "source": [
    "import glob\n",
    "\n",
    "csv_files = glob.glob(\"yahoo_finance_news*.csv\")\n",
    "dfs = [pd.read_csv(f) for f in csv_files]\n",
    "yf_df = pd.concat(dfs, ignore_index=True)\n",
    "yf_df.drop_duplicates(subset=[\"title\"], inplace=True)\n",
    "yf_df = yf_df[yf_df[\"content\"].notna()]\n",
    "yf_df.reset_index(drop=True, inplace=True)\n",
    "yf_df = yf_df[[\"content\", \"summary\", \"link\"]]\n",
    "\n",
    "yf_df.head()"
   ],
   "id": "d772f87e849ac317",
   "outputs": [
    {
     "data": {
      "text/plain": [
       "                                             content  \\\n",
       "0  Amazon.com, Inc. (NASDAQ:AMZN) is one of theJi...   \n",
       "1  Investing.com -- Citi placed Trade Desk (NASDA...   \n",
       "2  WASHINGTON,July 1, 2025/PRNewswire/ -- TheNati...   \n",
       "3  Momentum investing revolves around the idea of...   \n",
       "4  Taking full advantage of the stock market and ...   \n",
       "\n",
       "                                             summary  \\\n",
       "0  Amazon.com, Inc. (NASDAQ:AMZN) is one of the J...   \n",
       "1  Investing.com -- Citi placed Trade Desk (NASDA...   \n",
       "2  The National Safety Council estimates 437 peop...   \n",
       "3  Does Walt Disney (DIS) have what it takes to b...   \n",
       "4  The Zacks Style Scores offers investors a way ...   \n",
       "\n",
       "                                                link  \n",
       "0  https://finance.yahoo.com/news/amazon-com-inc-...  \n",
       "1  https://finance.yahoo.com/news/citi-sees-upsid...  \n",
       "2  https://finance.yahoo.com/news/nsc-warns-437-p...  \n",
       "3  https://finance.yahoo.com/news/looking-top-mom...  \n",
       "4  https://finance.yahoo.com/news/heres-why-walt-...  "
      ],
      "text/html": [
       "<div>\n",
       "<style scoped>\n",
       "    .dataframe tbody tr th:only-of-type {\n",
       "        vertical-align: middle;\n",
       "    }\n",
       "\n",
       "    .dataframe tbody tr th {\n",
       "        vertical-align: top;\n",
       "    }\n",
       "\n",
       "    .dataframe thead th {\n",
       "        text-align: right;\n",
       "    }\n",
       "</style>\n",
       "<table border=\"1\" class=\"dataframe\">\n",
       "  <thead>\n",
       "    <tr style=\"text-align: right;\">\n",
       "      <th></th>\n",
       "      <th>content</th>\n",
       "      <th>summary</th>\n",
       "      <th>link</th>\n",
       "    </tr>\n",
       "  </thead>\n",
       "  <tbody>\n",
       "    <tr>\n",
       "      <th>0</th>\n",
       "      <td>Amazon.com, Inc. (NASDAQ:AMZN) is one of theJi...</td>\n",
       "      <td>Amazon.com, Inc. (NASDAQ:AMZN) is one of the J...</td>\n",
       "      <td>https://finance.yahoo.com/news/amazon-com-inc-...</td>\n",
       "    </tr>\n",
       "    <tr>\n",
       "      <th>1</th>\n",
       "      <td>Investing.com -- Citi placed Trade Desk (NASDA...</td>\n",
       "      <td>Investing.com -- Citi placed Trade Desk (NASDA...</td>\n",
       "      <td>https://finance.yahoo.com/news/citi-sees-upsid...</td>\n",
       "    </tr>\n",
       "    <tr>\n",
       "      <th>2</th>\n",
       "      <td>WASHINGTON,July 1, 2025/PRNewswire/ -- TheNati...</td>\n",
       "      <td>The National Safety Council estimates 437 peop...</td>\n",
       "      <td>https://finance.yahoo.com/news/nsc-warns-437-p...</td>\n",
       "    </tr>\n",
       "    <tr>\n",
       "      <th>3</th>\n",
       "      <td>Momentum investing revolves around the idea of...</td>\n",
       "      <td>Does Walt Disney (DIS) have what it takes to b...</td>\n",
       "      <td>https://finance.yahoo.com/news/looking-top-mom...</td>\n",
       "    </tr>\n",
       "    <tr>\n",
       "      <th>4</th>\n",
       "      <td>Taking full advantage of the stock market and ...</td>\n",
       "      <td>The Zacks Style Scores offers investors a way ...</td>\n",
       "      <td>https://finance.yahoo.com/news/heres-why-walt-...</td>\n",
       "    </tr>\n",
       "  </tbody>\n",
       "</table>\n",
       "</div>"
      ]
     },
     "execution_count": 33,
     "metadata": {},
     "output_type": "execute_result"
    }
   ],
   "execution_count": 33
  },
  {
   "metadata": {
    "ExecuteTime": {
     "end_time": "2025-07-03T09:43:53.549190Z",
     "start_time": "2025-07-03T09:43:53.534502Z"
    }
   },
   "cell_type": "code",
   "source": "print(\"Parsed Yahoo Finance News Articles:\", len(yf_df))",
   "id": "e9d31e2d7f765a7",
   "outputs": [
    {
     "name": "stdout",
     "output_type": "stream",
     "text": [
      "Parsed Yahoo Finance News Articles: 3027\n"
     ]
    }
   ],
   "execution_count": 34
  },
  {
   "metadata": {
    "ExecuteTime": {
     "end_time": "2025-07-02T22:09:34.491864Z",
     "start_time": "2025-07-02T22:09:34.377438Z"
    }
   },
   "cell_type": "code",
   "source": [
    "# combine the 2 dataframes\n",
    "df_combined = pd.concat([yf_df[[\"content\", \"summary\",\"link\"]], df], ignore_index=True)"
   ],
   "id": "6847feddbb128e09",
   "outputs": [],
   "execution_count": 31
  },
  {
   "metadata": {
    "ExecuteTime": {
     "end_time": "2025-07-02T22:09:35.243983Z",
     "start_time": "2025-07-02T22:09:35.239403Z"
    }
   },
   "cell_type": "code",
   "source": "len(df_combined)",
   "id": "841429a20cc3171e",
   "outputs": [
    {
     "data": {
      "text/plain": [
       "10605"
      ]
     },
     "execution_count": 32,
     "metadata": {},
     "output_type": "execute_result"
    }
   ],
   "execution_count": 32
  },
  {
   "metadata": {
    "ExecuteTime": {
     "end_time": "2025-07-02T22:09:43.106171Z",
     "start_time": "2025-07-02T22:09:42.181229Z"
    }
   },
   "cell_type": "code",
   "source": "df_combined.to_csv(\"dataset.csv\", index=False)",
   "id": "413d67f745b006a",
   "outputs": [],
   "execution_count": 33
  }
 ],
 "metadata": {
  "kernelspec": {
   "display_name": "Python 3",
   "language": "python",
   "name": "python3"
  },
  "language_info": {
   "codemirror_mode": {
    "name": "ipython",
    "version": 2
   },
   "file_extension": ".py",
   "mimetype": "text/x-python",
   "name": "python",
   "nbconvert_exporter": "python",
   "pygments_lexer": "ipython2",
   "version": "2.7.6"
  }
 },
 "nbformat": 4,
 "nbformat_minor": 5
}
